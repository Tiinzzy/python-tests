{
 "cells": [
  {
   "cell_type": "code",
   "execution_count": 1,
   "id": "952a55a7",
   "metadata": {},
   "outputs": [
    {
     "data": {
      "text/html": [
       "<style>.container { width:100% !important; }</style>"
      ],
      "text/plain": [
       "<IPython.core.display.HTML object>"
      ]
     },
     "metadata": {},
     "output_type": "display_data"
    }
   ],
   "source": [
    "from IPython.display import display, HTML\n",
    "display(HTML(\"<style>.container { width:100% !important; }</style>\"))\n",
    "\n",
    "import mysql.connector\n",
    "import pandas as pd\n",
    "import json"
   ]
  },
  {
   "cell_type": "code",
   "execution_count": 2,
   "id": "7508c11b",
   "metadata": {},
   "outputs": [],
   "source": [
    "def open_database():\n",
    "    con = mysql.connector.connect(user='dbadmin', password='washywashy',host='127.0.0.1',database='tests')\n",
    "    return con, con.cursor()\n",
    "\n",
    "def read_csv(filename):\n",
    "    df = pd.read_csv(filename, low_memory=False)\n",
    "    return df\n",
    "\n",
    "def select_columns(df, columns):\n",
    "    return df[columns]\n",
    "\n",
    "def get_data():\n",
    "    df = read_csv('./data/movies_imbd.csv')\n",
    "    return df\n",
    "\n",
    "def get_column_df(col):\n",
    "    df = read_csv('./data/movies_imbd.csv')\n",
    "    df = select_columns(df,[col])\n",
    "    df = df[~pd.isnull(df[col])]\n",
    "    df.fillna(\"\",inplace=True)\n",
    "    return df"
   ]
  },
  {
   "cell_type": "code",
   "execution_count": 3,
   "id": "cce29f23",
   "metadata": {},
   "outputs": [],
   "source": [
    "def create_imbd_movies_table():\n",
    "    con, cursor = open_database()\n",
    "    cursor.execute(\"drop table if exists tests.imbd_movies\")\n",
    "    create_table_sql = \"\"\"\n",
    "    create table tests.imbd_movies (\n",
    "            id int,\n",
    "            imdb_id varchar(150),\n",
    "            original_title varchar(250),\n",
    "            title varchar(250),\n",
    "            original_language varchar(120),\n",
    "            overview varchar(1000),\n",
    "            tagline varchar(560),\n",
    "            release_date varchar(120),\n",
    "            status varchar(50),\n",
    "            budget varchar(1000),\n",
    "            revenue float,\n",
    "            runtime float,\n",
    "            adult varchar(20),\n",
    "            popularity float,\n",
    "            vote_average float,\n",
    "            vote_count float,\n",
    "            homepage varchar(550),\n",
    "            poster_path varchar(550),\n",
    "            video varchar(20)\n",
    "\n",
    "    )\n",
    "    \"\"\"\n",
    "    cursor.execute(create_table_sql)\n",
    "    con.commit()    \n",
    "    con.close()\n",
    "\n",
    "def insert_into_imbd_movies_table():\n",
    "    df = read_csv('./data/movies_imbd.csv')\n",
    "    df = select_columns(df, ['id','imdb_id','original_title', 'title','original_language','overview','tagline', 'release_date', 'status', 'budget', 'revenue', 'runtime', 'adult', 'popularity', 'vote_average', 'vote_count','homepage', 'poster_path', 'video'])\n",
    "    df = df.fillna(0)\n",
    "\n",
    "    values = []\n",
    "    i = 1\n",
    "    for x in df.values:\n",
    "        data = tuple(x)\n",
    "        i += 1\n",
    "        values.append(data)\n",
    "        con, cursor = open_database()\n",
    "        try:\n",
    "            insert_sql = \"insert into tests.imbd_movies (id,imdb_id,original_title, title,original_language,overview,tagline, release_date, status, budget, revenue, runtime, adult, popularity, vote_average, vote_count,homepage, poster_path, video) values (%s,%s,%s,%s,%s,%s,%s,%s,%s,%s,%s,%s,%s,%s,%s,%s,%s,%s,%s)\"\n",
    "            cursor.execut(insert_sql, data)\n",
    "            print('worked', i, x)\n",
    "        except:\n",
    "            print(\"--->\", i, x)\n",
    "            \n",
    "#     data =  tuple([tuple(x) for x in df.values])\n",
    "   \n",
    "    con.commit()   \n",
    "    con.close()    "
   ]
  },
  {
   "cell_type": "code",
   "execution_count": 4,
   "id": "b876320d",
   "metadata": {},
   "outputs": [],
   "source": [
    "create_imbd_movies_table()\n",
    "# insert_into_imbd_movies_table()"
   ]
  },
  {
   "cell_type": "code",
   "execution_count": null,
   "id": "6fca25f7",
   "metadata": {},
   "outputs": [],
   "source": []
  },
  {
   "cell_type": "code",
   "execution_count": 43,
   "id": "73da6db3",
   "metadata": {},
   "outputs": [
    {
     "data": {
      "text/plain": [
       "10.0"
      ]
     },
     "execution_count": 43,
     "metadata": {},
     "output_type": "execute_result"
    }
   ],
   "source": [
    "float(\"10\")"
   ]
  },
  {
   "cell_type": "code",
   "execution_count": null,
   "id": "dbaa8d97",
   "metadata": {},
   "outputs": [],
   "source": []
  },
  {
   "cell_type": "code",
   "execution_count": 42,
   "id": "49db44ae",
   "metadata": {},
   "outputs": [],
   "source": [
    "def clean_id(idn, my_lambda):\n",
    "    try:\n",
    "        idn = my_lambda(idn)\n",
    "        return idn\n",
    "    except:\n",
    "        return my_lambda(0)\n",
    "\n",
    "df = read_csv('./data/movies_imbd.csv')\n",
    "df = select_columns(df, ['id','imdb_id','original_title', 'title','original_language','overview','tagline', 'release_date', 'status', 'budget', 'revenue', 'runtime', 'adult', 'popularity', 'vote_average', 'vote_count','homepage', 'poster_path', 'video'])\n",
    "df = df.fillna(0)\n",
    "\n",
    "df['id'] = df.apply(lambda x: clean_id(x['id'], lambda a : int(a)), axis=1)\n",
    "df['revenue'] = df.apply(lambda x: clean_id(x['revenue'], lambda a : float(a)), axis=1)\n",
    "df['runtime'] = df.apply(lambda x: clean_id(x['runtime'], lambda a : float(a)), axis=1)\n",
    "df['popularity'] = df.apply(lambda x: clean_id(x['popularity'], lambda a : float(a)), axis=1)\n",
    "df['vote_average'] = df.apply(lambda x: clean_id(x['vote_average'], lambda a : float(a)), axis=1)\n",
    "df['vote_count'] = df.apply(lambda x: clean_id(x['vote_count'], lambda a : float(a)), axis=1)\n",
    "df['adult'] = df.apply(lambda x: ('True' if x.adult == 'True' else 'False'), axis=1)\n",
    "df = df.fillna('')"
   ]
  },
  {
   "cell_type": "code",
   "execution_count": null,
   "id": "72336691",
   "metadata": {},
   "outputs": [],
   "source": []
  },
  {
   "cell_type": "code",
   "execution_count": 44,
   "id": "d2ac7172",
   "metadata": {},
   "outputs": [
    {
     "name": "stdout",
     "output_type": "stream",
     "text": [
      "('insert into tests.imbd_movies (id,imdb_id,original_title) values (%s,%s,%s)', ['id', 'imdb_id', 'original_title'])\n"
     ]
    }
   ],
   "source": [
    "def get_sql_field(number_of_fields):\n",
    "    all_fields = ['id','imdb_id','original_title','title','original_language','overview','tagline', 'release_date', 'status', 'budget', 'revenue', 'runtime', 'adult', 'popularity', 'vote_average', 'vote_count','homepage', 'poster_path', 'video']\n",
    "    number_of_fields = number_of_fields if number_of_fields > 0 else len(all_fields)\n",
    "    fields = all_fields[0:number_of_fields]\n",
    "    sql = \"insert into tests.imbd_movies (\" + \",\".join(fields)+ \") values (\" + \",\".join([\"%s\" for i in range(len(fields))]) +\")\"\n",
    "    return sql, fields\n",
    "    \n",
    "print(get_sql_field(3))"
   ]
  },
  {
   "cell_type": "code",
   "execution_count": 45,
   "id": "d976597c",
   "metadata": {},
   "outputs": [],
   "source": [
    "con, cursor = open_database()\n",
    "con.autocommit = True\n",
    "cursor.execute('delete from tests.imbd_movies')\n",
    "\n",
    "sql, fields =  get_sql_field(0)\n",
    "data = []\n",
    "for x in df[fields].values:\n",
    "    data.append(tuple(x))\n",
    "    \n",
    "\n",
    "cursor.executemany(sql, data)\n",
    "\n",
    "\n",
    "con.close()    "
   ]
  },
  {
   "cell_type": "code",
   "execution_count": null,
   "id": "40aad522",
   "metadata": {},
   "outputs": [],
   "source": []
  },
  {
   "cell_type": "code",
   "execution_count": null,
   "id": "d1e02ba9",
   "metadata": {},
   "outputs": [],
   "source": []
  },
  {
   "cell_type": "code",
   "execution_count": null,
   "id": "f190013c",
   "metadata": {
    "scrolled": false
   },
   "outputs": [],
   "source": []
  },
  {
   "cell_type": "code",
   "execution_count": null,
   "id": "f347ebc5",
   "metadata": {},
   "outputs": [],
   "source": []
  },
  {
   "cell_type": "code",
   "execution_count": null,
   "id": "0f68e302",
   "metadata": {},
   "outputs": [],
   "source": []
  },
  {
   "cell_type": "code",
   "execution_count": 11,
   "id": "d3f3dacb",
   "metadata": {},
   "outputs": [],
   "source": [
    "\n"
   ]
  }
 ],
 "metadata": {
  "kernelspec": {
   "display_name": "Python 3 (ipykernel)",
   "language": "python",
   "name": "python3"
  },
  "language_info": {
   "codemirror_mode": {
    "name": "ipython",
    "version": 3
   },
   "file_extension": ".py",
   "mimetype": "text/x-python",
   "name": "python",
   "nbconvert_exporter": "python",
   "pygments_lexer": "ipython3",
   "version": "3.10.6"
  }
 },
 "nbformat": 4,
 "nbformat_minor": 5
}
