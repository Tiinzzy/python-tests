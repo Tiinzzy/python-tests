{
 "cells": [
  {
   "cell_type": "code",
   "execution_count": 1,
   "id": "6ee3b57e",
   "metadata": {},
   "outputs": [],
   "source": [
    "import mysql.connector\n",
    "import pandas as pd"
   ]
  },
  {
   "cell_type": "code",
   "execution_count": 4,
   "id": "f14661ce",
   "metadata": {},
   "outputs": [],
   "source": [
    "def open_database():\n",
    "    con = mysql.connector.connect(user='dbadmin', password='washywashy',host='127.0.0.1',database='tests')\n",
    "    return con, con.cursor()\n",
    "\n",
    "def close_database(con, cursor):\n",
    "    cursor.close()\n",
    "    con.close()\n",
    "    \n",
    "def read_csv(filename):\n",
    "    df = pd.read_csv(filename)\n",
    "    return df\n",
    "\n",
    "def select_columns(df, columns):\n",
    "    return df[columns]\n",
    "\n",
    "def init_tables():\n",
    "    drop_table_sql = \"drop table if exists movies\"\n",
    "    create_table_sql = \"\"\"\n",
    "        create table movies (\n",
    "            film varchar(256),\n",
    "            genre varchar(128),\n",
    "            year int,\n",
    "            profitability double\n",
    "        )\n",
    "    \"\"\"\n",
    "    con, cursor = open_database()\n",
    "    cursor.execute(drop_table_sql)\n",
    "    cursor.execute(create_table_sql)\n",
    "    con.commit()\n",
    "    close_database(con, cursor)\n",
    "    \n",
    "def fill_movie_table():\n",
    "    df = read_csv('./data/movies.csv')\n",
    "    df = select_columns(df, ['Film', 'Genre', 'Year', 'Profitability'])\n",
    "    insert_sql = \"insert into tests.movies (film, genre, year, profitability) values (%s, %s, %s, %s)\"\n",
    "    #data = tuple([tuple(x) for x in df.values])\n",
    "    data = df.values.tolist()\n",
    "    con, cursor = open_database()\n",
    "    cursor.executemany(insert_sql, data)\n",
    "    con.commit()\n",
    "    close_database(con, cursor)\n",
    "        \n",
    "def show_random_movies(limit_count=10):\n",
    "    con, cursor = open_database()\n",
    "    cursor.execute(\"select * from tests.movies order by rand() limit \" + str(limit_count))\n",
    "    rows = cursor.fetchall()\n",
    "    for r in rows:\n",
    "        print(r)\n",
    "    close_database(con, cursor)"
   ]
  },
  {
   "cell_type": "code",
   "execution_count": null,
   "id": "cbcf5889",
   "metadata": {},
   "outputs": [],
   "source": []
  },
  {
   "cell_type": "code",
   "execution_count": null,
   "id": "5b202f73",
   "metadata": {},
   "outputs": [],
   "source": [
    "df"
   ]
  },
  {
   "cell_type": "code",
   "execution_count": null,
   "id": "53a73225",
   "metadata": {},
   "outputs": [],
   "source": []
  },
  {
   "cell_type": "code",
   "execution_count": null,
   "id": "7edacfea",
   "metadata": {},
   "outputs": [],
   "source": []
  },
  {
   "cell_type": "code",
   "execution_count": null,
   "id": "ffb928b0",
   "metadata": {},
   "outputs": [],
   "source": []
  }
 ],
 "metadata": {
  "kernelspec": {
   "display_name": "Python 3 (ipykernel)",
   "language": "python",
   "name": "python3"
  },
  "language_info": {
   "codemirror_mode": {
    "name": "ipython",
    "version": 3
   },
   "file_extension": ".py",
   "mimetype": "text/x-python",
   "name": "python",
   "nbconvert_exporter": "python",
   "pygments_lexer": "ipython3",
   "version": "3.10.6"
  }
 },
 "nbformat": 4,
 "nbformat_minor": 5
}
