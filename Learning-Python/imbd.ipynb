{
 "cells": [
  {
   "cell_type": "code",
   "execution_count": 1,
   "id": "ba6fbd07",
   "metadata": {},
   "outputs": [
    {
     "data": {
      "text/html": [
       "<style>.container { width:100% !important; }</style>"
      ],
      "text/plain": [
       "<IPython.core.display.HTML object>"
      ]
     },
     "metadata": {},
     "output_type": "display_data"
    }
   ],
   "source": [
    "from IPython.display import display, HTML\n",
    "display(HTML(\"<style>.container { width:100% !important; }</style>\"))"
   ]
  },
  {
   "cell_type": "code",
   "execution_count": 2,
   "id": "131159ce",
   "metadata": {},
   "outputs": [],
   "source": [
    "import mysql.connector\n",
    "import pandas as pd\n",
    "import json"
   ]
  },
  {
   "cell_type": "code",
   "execution_count": 3,
   "id": "d7f38ce9",
   "metadata": {},
   "outputs": [],
   "source": [
    "def open_database():\n",
    "    con = mysql.connector.connect(user='dbadmin', password='washywashy',host='127.0.0.1',database='tests')\n",
    "    return con, con.cursor()\n",
    "\n",
    "def read_csv(filename):\n",
    "    df = pd.read_csv(filename, low_memory=False)\n",
    "    return df\n",
    "\n",
    "def select_columns(df, columns):\n",
    "    return df[columns]\n",
    "\n",
    "def get_data():\n",
    "    df = read_csv('./data/movies_imbd.csv')\n",
    "    return df"
   ]
  },
  {
   "cell_type": "code",
   "execution_count": 4,
   "id": "8373d196",
   "metadata": {},
   "outputs": [],
   "source": [
    "def get_column_df(col):\n",
    "    df = read_csv('./data/movies_imbd.csv')\n",
    "    df = select_columns(df,[col])\n",
    "    df = df[~pd.isnull(df[col])]\n",
    "    df.fillna(\"\",inplace=True)\n",
    "    return df"
   ]
  },
  {
   "cell_type": "code",
   "execution_count": 5,
   "id": "732ae4c2",
   "metadata": {},
   "outputs": [],
   "source": [
    "def get_production_companies_data():\n",
    "    production_companies = {}\n",
    "    df = get_column_df('production_companies')\n",
    "    for c in df.sample(1000).values:\n",
    "        if(c[0] != '[]'):\n",
    "            parts = c[0].split('},')        \n",
    "            for p in parts:\n",
    "                p = p.replace(\"[{'id\",\"{'id\").replace(\" {'id'\", \"{'id'\").replace(\"}]\", \"}\").replace(\"} \", \"}\")\n",
    "                p = p.replace(\"[{'name\",\"{'name\")\n",
    "                if p[-1] != '}':\n",
    "                    p = p + \"}\"\n",
    "                    p = p.replace(\"{'name': \", \"\").replace(\"'id': \", \"\").replace('}', '')        \n",
    "                    parts2 = p.split(\"', \")\n",
    "                    if len(parts2) == 2:\n",
    "                        name = parts2[0].strip()[1:]\n",
    "                        id = parts2[1]\n",
    "                        production_companies[id] = name\n",
    "                    else:\n",
    "                        parts2 = p.split('\", ')\n",
    "                        name = parts2[0].strip()[1:]\n",
    "                        id = parts2[1]\n",
    "                        production_companies[id] = name\n",
    "    return production_companies\n"
   ]
  },
  {
   "cell_type": "code",
   "execution_count": 6,
   "id": "96a824e7",
   "metadata": {},
   "outputs": [],
   "source": [
    "def from_key_to_key(s, fk, tk):\n",
    "    fp = s.find(\"'\"++\"':\")\n",
    "    tp = s.find(\"'\"+tk+\"':\")    \n",
    "    return s[fp+len(fk)+4:tp-2]\n",
    "\n",
    "def get_single_id_name(s):\n",
    "    return from_key_to_key(s, \"id\", \"name\"), from_key_to_key(s, \"name\", \"poster_path\")\n",
    "\n",
    "def get_columns_json():\n",
    "    df = get_column_df('genres')\n",
    "    for s in df.values:\n",
    "            if (s[0] != '[]'):\n",
    "                parts = s[0].split('},')        \n",
    "                for p in parts:\n",
    "                    p = p.replace(\"[{'id\",\"{'id\").replace(\" {'id'\", \"{'id'\").replace(\"}]\", \"}\").replace(\"} \", \"}\")\n",
    "                    p = p.replace(\"[{'name\",\"{'name\")\n",
    "                    if p[-1] != '}':\n",
    "                        p = p + \"}\"\n",
    "                    p = p.replace(\"'\", '\"')\n",
    "                    obj = json.loads(p)\n",
    "                    print(obj)\n",
    "                    return(obj)\n",
    "           "
   ]
  },
  {
   "cell_type": "code",
   "execution_count": 7,
   "id": "a3004aee",
   "metadata": {},
   "outputs": [],
   "source": [
    "def test_for_single_id_name():\n",
    "    df = get_column_df(\"belongs_to_collection\")\n",
    "    i = 0\n",
    "    for s in df.values:\n",
    "        id, name = get_single_id_name(s[0])\n",
    "        print(i, \"id => \" + id, \",  name => \" + name)\n",
    "        i += 1        "
   ]
  },
  {
   "cell_type": "code",
   "execution_count": 8,
   "id": "8c871d8b",
   "metadata": {
    "scrolled": false
   },
   "outputs": [],
   "source": [
    "#test_for_single_id_name()\n",
    "# get_genres_json()"
   ]
  },
  {
   "cell_type": "code",
   "execution_count": 9,
   "id": "eb93e71a",
   "metadata": {},
   "outputs": [],
   "source": [
    "def create_production_companies_table():\n",
    "    con, cursor = open_database()\n",
    "    cursor.execute(\"drop table if exists tests.production_companies\")\n",
    "    create_table_sql = \"\"\"\n",
    "    create table tests.production_companies (\n",
    "        id int,\n",
    "        name varchar(512),\n",
    "        primary key(id)\n",
    "    )\n",
    "    \"\"\"\n",
    "    cursor.execute(create_table_sql)\n",
    "    con.commit()    \n",
    "    con.close()\n",
    "    \n",
    "def insert_production_companies_data():\n",
    "    pc = get_production_companies_data()\n",
    "    values = []\n",
    "    for key in pc:\n",
    "        values.append((key, pc[key]))\n",
    "    con, cursor = open_database()\n",
    "    cursor.executemany(\"insert into production_companies (id, name) values (%s, %s)\", values)\n",
    "    con.commit()    \n",
    "    con.close()    "
   ]
  },
  {
   "cell_type": "code",
   "execution_count": 10,
   "id": "a3da4ee2",
   "metadata": {},
   "outputs": [],
   "source": [
    "# create_production_companies_table()\n",
    "# insert_production_companies_data()"
   ]
  },
  {
   "cell_type": "code",
   "execution_count": 11,
   "id": "a658bb86",
   "metadata": {},
   "outputs": [],
   "source": [
    "def get_production_countries():\n",
    "    df = get_column_df('production_countries')\n",
    "    production_countries = {}\n",
    "    for c in df.values:\n",
    "        if (c[0] != '[]'):\n",
    "            lines = c[0].split('},')\n",
    "            for l in lines:\n",
    "                l = l.replace(\"[{'iso_3166_1\",\"{'iso_3166_1\").replace(\"}]\",\"}\")\n",
    "\n",
    "                if l[-1] != \"}\":\n",
    "                    l = l + \"}\"\n",
    "                l = l.strip()\n",
    "\n",
    "                initials = from_key_to_key(l,\"iso_3166_1\", \"name\" )\n",
    "                initials = initials.replace(\"'\", \"\")\n",
    "\n",
    "    #           getting country was different\n",
    "                fp = l.find(\"'\"+'name'+\"':\")\n",
    "                tp = l.find(\"\"+'}'+\"\")\n",
    "                country = l[fp+len('name')+5:tp-1]\n",
    "\n",
    "                production_countries[initials] = country\n",
    "    return production_countries"
   ]
  },
  {
   "cell_type": "code",
   "execution_count": null,
   "id": "b6d7c141",
   "metadata": {},
   "outputs": [],
   "source": []
  },
  {
   "cell_type": "code",
   "execution_count": null,
   "id": "f10b78ab",
   "metadata": {},
   "outputs": [],
   "source": []
  }
 ],
 "metadata": {
  "kernelspec": {
   "display_name": "Python 3 (ipykernel)",
   "language": "python",
   "name": "python3"
  },
  "language_info": {
   "codemirror_mode": {
    "name": "ipython",
    "version": 3
   },
   "file_extension": ".py",
   "mimetype": "text/x-python",
   "name": "python",
   "nbconvert_exporter": "python",
   "pygments_lexer": "ipython3",
   "version": "3.10.6"
  }
 },
 "nbformat": 4,
 "nbformat_minor": 5
}
